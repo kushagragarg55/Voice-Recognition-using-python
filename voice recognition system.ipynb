{
 "cells": [
  {
   "cell_type": "code",
   "execution_count": 4,
   "metadata": {},
   "outputs": [],
   "source": [
    "import speech_recognition as sr\n",
    "import os\n",
    "import argparse\n",
    "import subprocess\n",
    "from sklearn.preprocessing import Normalizer\n",
    "from sklearn.decomposition import PCA\n",
    "import pandas as pd\n",
    "from sklearn.utils import shuffle\n",
    "from sklearn.model_selection import train_test_split\n",
    "from sklearn.preprocessing import Normalizer\n",
    "from sklearn.linear_model import LogisticRegression\n",
    "from sklearn.metrics import accuracy_score, confusion_matrix\n",
    "from sklearn.naive_bayes import BernoulliNB\n",
    "from sklearn import svm\n",
    "from sklearn import neighbors\n",
    "import numpy as np\n",
    "import time\n",
    "import wave\n",
    "import pyaudio\n",
    "import sys"
   ]
  },
  {
   "cell_type": "code",
   "execution_count": 63,
   "metadata": {},
   "outputs": [
    {
     "name": "stdout",
     "output_type": "stream",
     "text": [
      "start speaking\n",
      "you said:together to form a group that is usually longer than a sentence paragraph of Aamir up of several sentences in most organised forms of writing such as acids paragraph container topic sentence all these years you look too in many instances we don't really define what the idea behind the paragraph is this is one of those\n"
     ]
    }
   ],
   "source": [
    "#for indian english\n",
    "r = sr.Recognizer()\n",
    "with sr.Microphone() as source:\n",
    "    print(\"start speaking\")\n",
    "    r.adjust_for_ambient_noise(source, duration = 3)\n",
    "    audio_data = r.record(source,duration=20)\n",
    "try:\n",
    "    text = r.recognize_google(audio_data,language=\"en-IN\")\n",
    "    print(\"you said:{}\".format(text))\n",
    "except Exception as e:\n",
    "    print(e)\n",
    "with open(\"voice.wav\", \"wb\") as file:\n",
    "    file.write(audio_data.get_wav_data())\n"
   ]
  },
  {
   "cell_type": "code",
   "execution_count": 49,
   "metadata": {},
   "outputs": [
    {
     "name": "stdout",
     "output_type": "stream",
     "text": [
      "start speaking\n",
      "you said:मैं यह बना रहा हूं और तुम कैसे हो शुक्रिया\n"
     ]
    }
   ],
   "source": [
    "#for indian hindi\n",
    "with sr.Microphone() as source:\n",
    "    print(\"start speaking\")\n",
    "    r.adjust_for_ambient_noise(source, duration = 3)\n",
    "    audio_data = r.record(source,duration=20)\n",
    "try:\n",
    "    text = r.recognize_google(audio_data,language=\"hi-IN\")\n",
    "    print(\"you said:{}\".format(text))\n",
    "except Exception as e:\n",
    "    print(e)\n"
   ]
  },
  {
   "cell_type": "code",
   "execution_count": null,
   "metadata": {},
   "outputs": [],
   "source": [
    "#for french\n",
    "with sr.Microphone() as source:\n",
    "    print(\"start speaking\")\n",
    "    r.adjust_for_ambient_noise(source, duration = 3)\n",
    "    audio_data = r.record(source,duration=20)\n",
    "try:\n",
    "    text = r.recognize_google(audio_data,language=\"hi-IN\")\n",
    "    print(\"you said:{}\".format(text))\n",
    "except Exception as e:\n",
    "    print(e)\n"
   ]
  },
  {
   "cell_type": "code",
   "execution_count": 52,
   "metadata": {},
   "outputs": [],
   "source": [
    "#import dataset for making the model for gender recognition by voice\n",
    "def import_dataset(dataset_path):\n",
    "    \n",
    "    df_voice=pd.read_csv(dataset_path)\n",
    "    df_voice = shuffle(df_voice)\n",
    "    \n",
    "    #replacing the labels male->0 and female ->1\n",
    "    df_voice[\"label\"] = df_voice[\"label\"].replace(\"male\",0)\n",
    "    df_voice[\"label\"] = df_voice[\"label\"].replace(\"female\",1)\n",
    "    \n",
    "    \n",
    "    \n",
    "    X=df_voice.iloc[:,:-1].values\n",
    "    Y=df_voice.iloc[:,-1].values\n",
    "    \n",
    "    X_train,X_test,Y_train,Y_test = train_test_split(X,Y,test_size=1/3,random_state=0)\n",
    "    \n",
    "    return X_train,Y_train,X_test,Y_test"
   ]
  },
  {
   "cell_type": "code",
   "execution_count": 53,
   "metadata": {},
   "outputs": [],
   "source": [
    "x_train, y_train, x_test, y_test = import_dataset(\"dataset/voice.csv\")\n",
    "#normalizing the dataset\n",
    "norm = Normalizer(norm='l2')\n",
    "x_train = norm.transform(x_train)\n",
    "x_test = norm.transform(x_test)\n"
   ]
  },
  {
   "cell_type": "code",
   "execution_count": 54,
   "metadata": {},
   "outputs": [],
   "source": [
    "#applying pca decompostion\n",
    "pca = PCA()\n",
    "pca.fit(x_train)\n",
    "x_train = pca.transform(x_train)\n",
    "x_test = pca.transform(x_test)"
   ]
  },
  {
   "cell_type": "code",
   "execution_count": 55,
   "metadata": {},
   "outputs": [],
   "source": [
    "def predict_and_score(lr,x_test,y_test):\n",
    "    p_test=lr.predict(x_test)\n",
    "    return accuracy_score(y_test,p_test)"
   ]
  },
  {
   "cell_type": "code",
   "execution_count": 56,
   "metadata": {},
   "outputs": [
    {
     "name": "stderr",
     "output_type": "stream",
     "text": [
      "E:\\anaconda\\lib\\site-packages\\sklearn\\linear_model\\logistic.py:432: FutureWarning: Default solver will be changed to 'lbfgs' in 0.22. Specify a solver to silence this warning.\n",
      "  FutureWarning)\n"
     ]
    },
    {
     "name": "stdout",
     "output_type": "stream",
     "text": [
      "LR:  0.665719696969697\n",
      "NB:  0.8589015151515151\n",
      "svm:  0.9119318181818182\n",
      "knn:  0.9119318181818182\n"
     ]
    }
   ],
   "source": [
    "#logistic regression\n",
    "lr=LogisticRegression()\n",
    "lr.fit(x_train,y_train.ravel())#numpy.ravel() is used to flatten the array\n",
    "acc = predict_and_score(lr,x_test,y_test)\n",
    "print(\"LR: \",acc)\n",
    "\n",
    "#bernoulli naive Bayes\n",
    "nb = BernoulliNB()\n",
    "nb.fit(x_train,y_train.ravel())\n",
    "acc = predict_and_score(nb,x_test,y_test)\n",
    "print(\"NB: \",acc)\n",
    "\n",
    "#svm gamma = \"auto\"\n",
    "clf = svm.NuSVC(gamma=\"auto\")\n",
    "clf.fit(x_train,y_train.ravel())\n",
    "acc = predict_and_score(clf,x_test,y_test)\n",
    "print(\"svm: \",acc)\n",
    "\n",
    "#knn \n",
    "knn = neighbors.KNeighborsClassifier(11,algorithm=\"ball_tree\",weights=\"distance\")\n",
    "knn.fit(x_train,y_train.ravel())\n",
    "acc = predict_and_score(clf,x_test,y_test)\n",
    "print(\"knn: \",acc)"
   ]
  },
  {
   "cell_type": "code",
   "execution_count": 64,
   "metadata": {},
   "outputs": [
    {
     "name": "stdout",
     "output_type": "stream",
     "text": [
      "Warning message:\n",
      "package 'tuneR' was built under R version 3.6.3 \n",
      "Warning message:\n",
      "package 'seewave' was built under R version 3.6.3 \n",
      "Loading required package: NatureSounds\n",
      "Loading required package: knitr\n",
      "\n",
      "NOTE: functions are being renamed (run 'print(new_function_names)' to see new names). Both old and new names are available in this version \n",
      " Please see citation('warbleR') for use in publication\n",
      "Warning messages:\n",
      "1: package 'warbleR' was built under R version 3.6.3 \n",
      "2: package 'NatureSounds' was built under R version 3.6.3 \n",
      "-- Attaching packages --------------------------------------- tidyverse 1.2.1 --\n",
      "v ggplot2 3.2.0     v purrr   0.3.2\n",
      "v tibble  2.1.3     v dplyr   0.8.3\n",
      "v tidyr   0.8.3     v stringr 1.4.0\n",
      "v readr   1.3.1     v forcats 0.4.0\n",
      "-- Conflicts ------------------------------------------ tidyverse_conflicts() --\n",
      "x dplyr::filter() masks stats::filter()\n",
      "x dplyr::lag()    masks stats::lag()\n",
      "x readr::spec()   masks seewave::spec()\n",
      "Warning message:\n",
      "In (0:(n - 1)) * f : NAs produced by integer overflow\n",
      "\n"
     ]
    }
   ],
   "source": [
    "p1 = subprocess.run([r\"C:\\Program Files\\R\\R-3.6.1\\bin\\x64\\Rscript.exe\",r\"C:\\Users\\This pc\\extract_single.r\"],capture_output=True,text=True)\n",
    "print(p1.stderr)"
   ]
  },
  {
   "cell_type": "code",
   "execution_count": 65,
   "metadata": {},
   "outputs": [],
   "source": [
    "new_df = pd.read_csv(\"voiceDetails.csv\")\n",
    "new_df = new_df.drop(axis=1,columns=[\"sound.files\",\"selec\",\"duration\",\"peakf\"])"
   ]
  },
  {
   "cell_type": "code",
   "execution_count": 66,
   "metadata": {},
   "outputs": [
    {
     "name": "stdout",
     "output_type": "stream",
     "text": [
      "(1, 20)\n"
     ]
    }
   ],
   "source": [
    "new_sample =new_df.values\n",
    "print(new_sample.shape)"
   ]
  },
  {
   "cell_type": "code",
   "execution_count": 67,
   "metadata": {},
   "outputs": [],
   "source": [
    "new_sample =norm.transform(np.float64(new_sample))"
   ]
  },
  {
   "cell_type": "code",
   "execution_count": 68,
   "metadata": {},
   "outputs": [],
   "source": [
    "new_sample=pca.transform(new_sample)[0]"
   ]
  },
  {
   "cell_type": "code",
   "execution_count": 69,
   "metadata": {},
   "outputs": [
    {
     "name": "stdout",
     "output_type": "stream",
     "text": [
      "[ 3.44770952e-01  2.49094564e-02 -4.52248592e-02 -8.52970632e-03\n",
      " -4.46182364e-02  3.79467206e-03  8.34416455e-03  4.35847788e-03\n",
      "  1.74047291e-03  1.90446245e-03  4.58510561e-05  1.17986646e-03\n",
      " -1.16758694e-03  4.35059088e-04  4.73593724e-04  4.42824205e-04\n",
      " -1.28502291e-05  4.94210465e-16  1.50566072e-17 -5.69985038e-20]\n",
      "\n",
      " Female\n"
     ]
    }
   ],
   "source": [
    "print(new_sample)\n",
    "if clf.predict([new_sample])==1 :\n",
    "    print(\"\\n Female\")\n",
    "else:\n",
    "    print(\"\\n Male\")\n"
   ]
  }
 ],
 "metadata": {
  "kernelspec": {
   "display_name": "Python 3",
   "language": "python",
   "name": "python3"
  },
  "language_info": {
   "codemirror_mode": {
    "name": "ipython",
    "version": 3
   },
   "file_extension": ".py",
   "mimetype": "text/x-python",
   "name": "python",
   "nbconvert_exporter": "python",
   "pygments_lexer": "ipython3",
   "version": "3.7.4"
  }
 },
 "nbformat": 4,
 "nbformat_minor": 2
}
