{
 "cells": [
  {
   "cell_type": "code",
   "execution_count": 4,
   "metadata": {},
   "outputs": [],
   "source": [
    "import speech_recognition as sr\n",
    "import os\n",
    "import argparse\n",
    "import subprocess\n",
    "from sklearn.preprocessing import Normalizer\n",
    "from sklearn.decomposition import PCA\n",
    "import pandas as pd\n",
    "from sklearn.utils import shuffle\n",
    "from sklearn.model_selection import train_test_split\n",
    "from sklearn.preprocessing import Normalizer\n",
    "from sklearn.linear_model import LogisticRegression\n",
    "from sklearn.metrics import accuracy_score, confusion_matrix\n",
    "from sklearn.naive_bayes import BernoulliNB\n",
    "from sklearn import svm\n",
    "from sklearn import neighbors\n",
    "import numpy as np\n",
    "import time\n",
    "import wave\n",
    "import pyaudio\n",
    "import sys"
   ]
  },
  {
   "cell_type": "code",
   "execution_count": null,
   "metadata": {},
   "outputs": [],
   "source": []
  },
  {
   "cell_type": "code",
   "execution_count": 14,
   "metadata": {},
   "outputs": [],
   "source": [
    "#import dataset for making the model for gender recognition by voice\n",
    "def import_dataset(dataset_path):\n",
    "    \n",
    "    df_voice=pd.read_csv(dataset_path)\n",
    "    df_voice = shuffle(df_voice)\n",
    "    \n",
    "    #replacing the labels male->0 and female ->1\n",
    "    df_voice[\"label\"] = df_voice[\"label\"].replace(\"male\",0)\n",
    "    df_voice[\"label\"] = df_voice[\"label\"].replace(\"female\",1)\n",
    "    \n",
    "    \n",
    "    \n",
    "    X=df_voice.iloc[:,:-1].values\n",
    "    Y=df_voice.iloc[:,-1].values\n",
    "    \n",
    "    X_train,X_test,Y_train,Y_test = train_test_split(X,Y,test_size=1/3,random_state=0)\n",
    "    \n",
    "    return X_train,Y_train,X_test,Y_test"
   ]
  },
  {
   "cell_type": "code",
   "execution_count": 15,
   "metadata": {},
   "outputs": [],
   "source": [
    "x_train, y_train, x_test, y_test = import_dataset(\"dataset/voice.csv\")\n",
    "#normalizing the dataset\n",
    "norm = Normalizer(norm='l2')\n",
    "x_train = norm.transform(x_train)\n",
    "x_test = norm.transform(x_test)\n"
   ]
  },
  {
   "cell_type": "code",
   "execution_count": 16,
   "metadata": {},
   "outputs": [],
   "source": [
    "#applying pca decompostion\n",
    "pca = PCA()\n",
    "pca.fit(x_train)\n",
    "x_train = pca.transform(x_train)\n",
    "x_test = pca.transform(x_test)"
   ]
  },
  {
   "cell_type": "code",
   "execution_count": 17,
   "metadata": {},
   "outputs": [],
   "source": [
    "def predict_and_score(lr,x_test,y_test):\n",
    "    p_test=lr.predict(x_test)\n",
    "    return accuracy_score(y_test,p_test)"
   ]
  },
  {
   "cell_type": "code",
   "execution_count": 18,
   "metadata": {},
   "outputs": [
    {
     "name": "stderr",
     "output_type": "stream",
     "text": [
      "E:\\anaconda\\lib\\site-packages\\sklearn\\linear_model\\logistic.py:432: FutureWarning: Default solver will be changed to 'lbfgs' in 0.22. Specify a solver to silence this warning.\n",
      "  FutureWarning)\n"
     ]
    },
    {
     "name": "stdout",
     "output_type": "stream",
     "text": [
      "LR:  0.6316287878787878\n",
      "NB:  0.8494318181818182\n",
      "svm:  0.9185606060606061\n",
      "knn:  0.9185606060606061\n"
     ]
    }
   ],
   "source": [
    "#logistic regression\n",
    "lr=LogisticRegression()\n",
    "lr.fit(x_train,y_train.ravel())#numpy.ravel() is used to flatten the array\n",
    "acc = predict_and_score(lr,x_test,y_test)\n",
    "print(\"LR: \",acc)\n",
    "\n",
    "#bernoulli naive Bayes\n",
    "nb = BernoulliNB()\n",
    "nb.fit(x_train,y_train.ravel())\n",
    "acc = predict_and_score(nb,x_test,y_test)\n",
    "print(\"NB: \",acc)\n",
    "\n",
    "#svm gamma = \"auto\"\n",
    "clf = svm.NuSVC(gamma=\"auto\")\n",
    "clf.fit(x_train,y_train.ravel())\n",
    "acc = predict_and_score(clf,x_test,y_test)\n",
    "print(\"svm: \",acc)\n",
    "\n",
    "#knn \n",
    "knn = neighbors.KNeighborsClassifier(11,algorithm=\"ball_tree\",weights=\"distance\")\n",
    "knn.fit(x_train,y_train.ravel())\n",
    "acc = predict_and_score(clf,x_test,y_test)\n",
    "print(\"knn: \",acc)"
   ]
  },
  {
   "cell_type": "code",
   "execution_count": 32,
   "metadata": {},
   "outputs": [
    {
     "name": "stdout",
     "output_type": "stream",
     "text": [
      "Warning message:\n",
      "package 'tuneR' was built under R version 3.6.3 \n",
      "Warning message:\n",
      "package 'seewave' was built under R version 3.6.3 \n",
      "Loading required package: NatureSounds\n",
      "Loading required package: knitr\n",
      "\n",
      "NOTE: functions are being renamed (run 'print(new_function_names)' to see new names). Both old and new names are available in this version \n",
      " Please see citation('warbleR') for use in publication\n",
      "Warning messages:\n",
      "1: package 'warbleR' was built under R version 3.6.3 \n",
      "2: package 'NatureSounds' was built under R version 3.6.3 \n",
      "-- Attaching packages --------------------------------------- tidyverse 1.2.1 --\n",
      "v ggplot2 3.2.0     v purrr   0.3.2\n",
      "v tibble  2.1.3     v dplyr   0.8.3\n",
      "v tidyr   0.8.3     v stringr 1.4.0\n",
      "v readr   1.3.1     v forcats 0.4.0\n",
      "-- Conflicts ------------------------------------------ tidyverse_conflicts() --\n",
      "x dplyr::filter() masks stats::filter()\n",
      "x dplyr::lag()    masks stats::lag()\n",
      "x readr::spec()   masks seewave::spec()\n",
      "\n"
     ]
    }
   ],
   "source": [
    "p1 = subprocess.run([r\"C:\\Program Files\\R\\R-3.6.1\\bin\\x64\\Rscript.exe\",r\"C:\\Users\\This pc\\extract_single.r\"],capture_output=True,text=True)\n",
    "print(p1.stderr)"
   ]
  },
  {
   "cell_type": "code",
   "execution_count": 33,
   "metadata": {},
   "outputs": [],
   "source": [
    "new_df = pd.read_csv(\"voiceDetails.csv\")\n",
    "new_df = new_df.drop(axis=1,columns=[\"sound.files\",\"selec\",\"duration\",\"peakf\"])"
   ]
  },
  {
   "cell_type": "code",
   "execution_count": 34,
   "metadata": {},
   "outputs": [
    {
     "name": "stdout",
     "output_type": "stream",
     "text": [
      "(1, 20)\n"
     ]
    }
   ],
   "source": [
    "new_sample =new_df.values\n",
    "print(new_sample.shape)"
   ]
  },
  {
   "cell_type": "code",
   "execution_count": 35,
   "metadata": {},
   "outputs": [],
   "source": [
    "new_sample =norm.transform(np.float64(new_sample))"
   ]
  },
  {
   "cell_type": "code",
   "execution_count": 36,
   "metadata": {},
   "outputs": [],
   "source": [
    "new_sample=pca.transform(new_sample)[0]"
   ]
  },
  {
   "cell_type": "code",
   "execution_count": 37,
   "metadata": {},
   "outputs": [
    {
     "name": "stdout",
     "output_type": "stream",
     "text": [
      "[-5.10276502e-01 -1.01083741e-02  7.68709621e-02 -3.55259994e-02\n",
      "  2.25995401e-03  1.59262041e-02  1.00834695e-02 -3.83894135e-03\n",
      "  3.26311277e-03 -9.34774268e-03  1.44275687e-03  2.67986829e-03\n",
      " -5.51193676e-04 -2.10889473e-03 -4.45531033e-04  3.24613523e-04\n",
      "  5.02025708e-06  3.41763171e-16  5.85892185e-17  1.58327288e-17]\n",
      "\n",
      " Male\n"
     ]
    }
   ],
   "source": [
    "print(new_sample)\n",
    "if clf.predict([new_sample])==1 :\n",
    "    print(\"\\n Female\")\n",
    "else:\n",
    "    print(\"\\n Male\")\n"
   ]
  }
 ],
 "metadata": {
  "kernelspec": {
   "display_name": "Python 3",
   "language": "python",
   "name": "python3"
  },
  "language_info": {
   "codemirror_mode": {
    "name": "ipython",
    "version": 3
   },
   "file_extension": ".py",
   "mimetype": "text/x-python",
   "name": "python",
   "nbconvert_exporter": "python",
   "pygments_lexer": "ipython3",
   "version": "3.7.4"
  }
 },
 "nbformat": 4,
 "nbformat_minor": 2
}
